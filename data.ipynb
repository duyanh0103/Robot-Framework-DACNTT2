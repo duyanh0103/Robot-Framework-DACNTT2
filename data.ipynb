{
 "cells": [
  {
   "cell_type": "code",
   "execution_count": 11,
   "metadata": {},
   "outputs": [],
   "source": [
    "import csv\n",
    "from selenium.webdriver.common.by import By\n",
    "from selenium.webdriver.support.ui import WebDriverWait\n",
    "from selenium.webdriver.support import expected_conditions as EC\n",
    "\n",
    "from selenium import webdriver\n",
    "from webdriver_manager.chrome import ChromeDriverManager\n",
    "import selenium\n",
    "from bs4 import BeautifulSoup\n",
    "\n",
    "from  time import sleep"
   ]
  },
  {
   "cell_type": "code",
   "execution_count": 12,
   "metadata": {},
   "outputs": [
    {
     "name": "stderr",
     "output_type": "stream",
     "text": [
      "C:\\Users\\Admin\\AppData\\Local\\Temp\\ipykernel_27368\\1260611284.py:8: DeprecationWarning: executable_path has been deprecated, please pass in a Service object\n",
      "  driver = selenium.webdriver.Chrome(executable_path=mac_path,options=options)\n"
     ]
    }
   ],
   "source": [
    "# Path to the Chrome driver for my Mac -- yours will differ\n",
    "mac_path = 'chromedriver/chromedriver.exe'\n",
    "options = webdriver.ChromeOptions()\n",
    "options.add_argument('--start-maximized')\n",
    "# options.add_argument('--headless')\n",
    "# options.add_argument('--no-sandbox')\n",
    "# options.add_argument('--disable-dev-shm-usage')\n",
    "driver = selenium.webdriver.Chrome(executable_path=mac_path,options=options)\n",
    "url = 'https://www.bosch-home.com/us/kitchen-planning-resources/kitchen-package-tool?vcs=4570&vcl=329&vclf=undefined&vct=13684&p_esp=1737384%3ASPE68B55UC%3A1'\n",
    "driver.get(url)"
   ]
  },
  {
   "cell_type": "code",
   "execution_count": 13,
   "metadata": {},
   "outputs": [],
   "source": [
    "page_source = driver.page_source\n",
    "soup = BeautifulSoup(page_source, 'html.parser')"
   ]
  },
  {
   "cell_type": "code",
   "execution_count": 14,
   "metadata": {},
   "outputs": [],
   "source": [
    "first_yes_btn = driver.find_element(By.XPATH,\"/html/body/div[2]/div[2]/div[2]/span[1]/a\")\n",
    "first_yes_btn.click()\n"
   ]
  },
  {
   "cell_type": "code",
   "execution_count": 15,
   "metadata": {},
   "outputs": [
    {
     "ename": "ElementNotInteractableException",
     "evalue": "Message: element not interactable\n  (Session info: chrome=116.0.5845.96)\nStacktrace:\n\tGetHandleVerifier [0x00007FF685CB52A2+57122]\n\t(No symbol) [0x00007FF685C2EA92]\n\t(No symbol) [0x00007FF685AFE25D]\n\t(No symbol) [0x00007FF685B38E97]\n\t(No symbol) [0x00007FF685B2F25F]\n\t(No symbol) [0x00007FF685B56FDA]\n\t(No symbol) [0x00007FF685B2EB76]\n\t(No symbol) [0x00007FF685B571F0]\n\t(No symbol) [0x00007FF685B6EB82]\n\t(No symbol) [0x00007FF685B56DB3]\n\t(No symbol) [0x00007FF685B2D2B1]\n\t(No symbol) [0x00007FF685B2E494]\n\tGetHandleVerifier [0x00007FF685F5EF82+2849794]\n\tGetHandleVerifier [0x00007FF685FB1D24+3189156]\n\tGetHandleVerifier [0x00007FF685FAACAF+3160367]\n\tGetHandleVerifier [0x00007FF685D46D06+653702]\n\t(No symbol) [0x00007FF685C3A208]\n\t(No symbol) [0x00007FF685C362C4]\n\t(No symbol) [0x00007FF685C363F6]\n\t(No symbol) [0x00007FF685C267A3]\n\tBaseThreadInitThunk [0x00007FFD03DE7614+20]\n\tRtlUserThreadStart [0x00007FFD05DC26B1+33]\n",
     "output_type": "error",
     "traceback": [
      "\u001b[1;31m---------------------------------------------------------------------------\u001b[0m",
      "\u001b[1;31mElementNotInteractableException\u001b[0m           Traceback (most recent call last)",
      "Cell \u001b[1;32mIn[15], line 2\u001b[0m\n\u001b[0;32m      1\u001b[0m close_modal \u001b[39m=\u001b[39m driver\u001b[39m.\u001b[39mfind_element(By\u001b[39m.\u001b[39mXPATH,\u001b[39m\"\u001b[39m\u001b[39m/html/body/div[5]/div[2]/div/div[1]/button\u001b[39m\u001b[39m\"\u001b[39m)\n\u001b[1;32m----> 2\u001b[0m close_modal\u001b[39m.\u001b[39;49mclick()\n",
      "File \u001b[1;32mc:\\Python311\\Lib\\site-packages\\selenium\\webdriver\\remote\\webelement.py:94\u001b[0m, in \u001b[0;36mWebElement.click\u001b[1;34m(self)\u001b[0m\n\u001b[0;32m     92\u001b[0m \u001b[39mdef\u001b[39;00m \u001b[39mclick\u001b[39m(\u001b[39mself\u001b[39m) \u001b[39m-\u001b[39m\u001b[39m>\u001b[39m \u001b[39mNone\u001b[39;00m:\n\u001b[0;32m     93\u001b[0m \u001b[39m    \u001b[39m\u001b[39m\"\"\"Clicks the element.\"\"\"\u001b[39;00m\n\u001b[1;32m---> 94\u001b[0m     \u001b[39mself\u001b[39;49m\u001b[39m.\u001b[39;49m_execute(Command\u001b[39m.\u001b[39;49mCLICK_ELEMENT)\n",
      "File \u001b[1;32mc:\\Python311\\Lib\\site-packages\\selenium\\webdriver\\remote\\webelement.py:403\u001b[0m, in \u001b[0;36mWebElement._execute\u001b[1;34m(self, command, params)\u001b[0m\n\u001b[0;32m    401\u001b[0m     params \u001b[39m=\u001b[39m {}\n\u001b[0;32m    402\u001b[0m params[\u001b[39m\"\u001b[39m\u001b[39mid\u001b[39m\u001b[39m\"\u001b[39m] \u001b[39m=\u001b[39m \u001b[39mself\u001b[39m\u001b[39m.\u001b[39m_id\n\u001b[1;32m--> 403\u001b[0m \u001b[39mreturn\u001b[39;00m \u001b[39mself\u001b[39;49m\u001b[39m.\u001b[39;49m_parent\u001b[39m.\u001b[39;49mexecute(command, params)\n",
      "File \u001b[1;32mc:\\Python311\\Lib\\site-packages\\selenium\\webdriver\\remote\\webdriver.py:440\u001b[0m, in \u001b[0;36mWebDriver.execute\u001b[1;34m(self, driver_command, params)\u001b[0m\n\u001b[0;32m    438\u001b[0m response \u001b[39m=\u001b[39m \u001b[39mself\u001b[39m\u001b[39m.\u001b[39mcommand_executor\u001b[39m.\u001b[39mexecute(driver_command, params)\n\u001b[0;32m    439\u001b[0m \u001b[39mif\u001b[39;00m response:\n\u001b[1;32m--> 440\u001b[0m     \u001b[39mself\u001b[39;49m\u001b[39m.\u001b[39;49merror_handler\u001b[39m.\u001b[39;49mcheck_response(response)\n\u001b[0;32m    441\u001b[0m     response[\u001b[39m\"\u001b[39m\u001b[39mvalue\u001b[39m\u001b[39m\"\u001b[39m] \u001b[39m=\u001b[39m \u001b[39mself\u001b[39m\u001b[39m.\u001b[39m_unwrap_value(response\u001b[39m.\u001b[39mget(\u001b[39m\"\u001b[39m\u001b[39mvalue\u001b[39m\u001b[39m\"\u001b[39m, \u001b[39mNone\u001b[39;00m))\n\u001b[0;32m    442\u001b[0m     \u001b[39mreturn\u001b[39;00m response\n",
      "File \u001b[1;32mc:\\Python311\\Lib\\site-packages\\selenium\\webdriver\\remote\\errorhandler.py:245\u001b[0m, in \u001b[0;36mErrorHandler.check_response\u001b[1;34m(self, response)\u001b[0m\n\u001b[0;32m    243\u001b[0m         alert_text \u001b[39m=\u001b[39m value[\u001b[39m\"\u001b[39m\u001b[39malert\u001b[39m\u001b[39m\"\u001b[39m]\u001b[39m.\u001b[39mget(\u001b[39m\"\u001b[39m\u001b[39mtext\u001b[39m\u001b[39m\"\u001b[39m)\n\u001b[0;32m    244\u001b[0m     \u001b[39mraise\u001b[39;00m exception_class(message, screen, stacktrace, alert_text)  \u001b[39m# type: ignore[call-arg]  # mypy is not smart enough here\u001b[39;00m\n\u001b[1;32m--> 245\u001b[0m \u001b[39mraise\u001b[39;00m exception_class(message, screen, stacktrace)\n",
      "\u001b[1;31mElementNotInteractableException\u001b[0m: Message: element not interactable\n  (Session info: chrome=116.0.5845.96)\nStacktrace:\n\tGetHandleVerifier [0x00007FF685CB52A2+57122]\n\t(No symbol) [0x00007FF685C2EA92]\n\t(No symbol) [0x00007FF685AFE25D]\n\t(No symbol) [0x00007FF685B38E97]\n\t(No symbol) [0x00007FF685B2F25F]\n\t(No symbol) [0x00007FF685B56FDA]\n\t(No symbol) [0x00007FF685B2EB76]\n\t(No symbol) [0x00007FF685B571F0]\n\t(No symbol) [0x00007FF685B6EB82]\n\t(No symbol) [0x00007FF685B56DB3]\n\t(No symbol) [0x00007FF685B2D2B1]\n\t(No symbol) [0x00007FF685B2E494]\n\tGetHandleVerifier [0x00007FF685F5EF82+2849794]\n\tGetHandleVerifier [0x00007FF685FB1D24+3189156]\n\tGetHandleVerifier [0x00007FF685FAACAF+3160367]\n\tGetHandleVerifier [0x00007FF685D46D06+653702]\n\t(No symbol) [0x00007FF685C3A208]\n\t(No symbol) [0x00007FF685C362C4]\n\t(No symbol) [0x00007FF685C363F6]\n\t(No symbol) [0x00007FF685C267A3]\n\tBaseThreadInitThunk [0x00007FFD03DE7614+20]\n\tRtlUserThreadStart [0x00007FFD05DC26B1+33]\n"
     ]
    }
   ],
   "source": [
    "close_modal = driver.find_element(By.XPATH,\"/html/body/div[5]/div[2]/div/div[1]/button\")\n",
    "close_modal.click()"
   ]
  },
  {
   "cell_type": "code",
   "execution_count": 16,
   "metadata": {},
   "outputs": [],
   "source": [
    "# Dishwasher hostpot\n",
    "close_modal = driver.find_element(By.XPATH,\"/html/body/div[4]/div[3]/div/div/div/div[2]/div/div/div/div/div/div[3]/div/div/div/div/div/div/div/div[2]/div/div[2]/button[2]\")\n",
    "close_modal.click()"
   ]
  },
  {
   "cell_type": "code",
   "execution_count": null,
   "metadata": {},
   "outputs": [],
   "source": [
    "# Dishwasher hostpot\n",
    "close_modal = driver.find_element(By.XPATH,\"/html/body/div[4]/div[3]/div/div/div/div[2]/div/div/div/div/div/div[3]/div/div/div/div/div/div/div/div[2]/div/div[2]/button[3]\")\n",
    "close_modal.click()"
   ]
  },
  {
   "cell_type": "code",
   "execution_count": 17,
   "metadata": {},
   "outputs": [],
   "source": [
    "# Dishwasher hostpot\n",
    "for i in range(1,6):\n",
    "    hostpot = driver.find_element(By.XPATH,f'//*[@id=\"triggers-container\"]/button[{i}]')\n",
    "    hostpot.click()\n",
    "    sleep(0.35)\n",
    "    hostpot_close = driver.find_element(By.XPATH,f'//*[@id=\"zoovu-assistant\"]/div/div[2]/div/div/div/div/div/div[3]/div/div/div/div/div/div/div/div[3]/div/div[1]/button')\n",
    "    hostpot_close.click()"
   ]
  },
  {
   "cell_type": "code",
   "execution_count": 18,
   "metadata": {},
   "outputs": [
    {
     "ename": "TimeoutException",
     "evalue": "Message: \nStacktrace:\n\tGetHandleVerifier [0x00007FF685CB52A2+57122]\n\t(No symbol) [0x00007FF685C2EA92]\n\t(No symbol) [0x00007FF685AFE3AB]\n\t(No symbol) [0x00007FF685B37D3E]\n\t(No symbol) [0x00007FF685B37E2C]\n\t(No symbol) [0x00007FF685B70B67]\n\t(No symbol) [0x00007FF685B5701F]\n\t(No symbol) [0x00007FF685B6EB82]\n\t(No symbol) [0x00007FF685B56DB3]\n\t(No symbol) [0x00007FF685B2D2B1]\n\t(No symbol) [0x00007FF685B2E494]\n\tGetHandleVerifier [0x00007FF685F5EF82+2849794]\n\tGetHandleVerifier [0x00007FF685FB1D24+3189156]\n\tGetHandleVerifier [0x00007FF685FAACAF+3160367]\n\tGetHandleVerifier [0x00007FF685D46D06+653702]\n\t(No symbol) [0x00007FF685C3A208]\n\t(No symbol) [0x00007FF685C362C4]\n\t(No symbol) [0x00007FF685C363F6]\n\t(No symbol) [0x00007FF685C267A3]\n\tBaseThreadInitThunk [0x00007FFD03DE7614+20]\n\tRtlUserThreadStart [0x00007FFD05DC26B1+33]\n",
     "output_type": "error",
     "traceback": [
      "\u001b[1;31m---------------------------------------------------------------------------\u001b[0m",
      "\u001b[1;31mTimeoutException\u001b[0m                          Traceback (most recent call last)",
      "Cell \u001b[1;32mIn[18], line 9\u001b[0m\n\u001b[0;32m      7\u001b[0m hostpot \u001b[39m=\u001b[39m driver\u001b[39m.\u001b[39mfind_element(By\u001b[39m.\u001b[39mXPATH,\u001b[39mf\u001b[39m\u001b[39m'\u001b[39m\u001b[39m//*[@id=\u001b[39m\u001b[39m\"\u001b[39m\u001b[39mtriggers-container\u001b[39m\u001b[39m\"\u001b[39m\u001b[39m]/button[1]\u001b[39m\u001b[39m'\u001b[39m)\n\u001b[0;32m      8\u001b[0m hostpot\u001b[39m.\u001b[39mclick()\n\u001b[1;32m----> 9\u001b[0m pagingComponent \u001b[39m=\u001b[39m WebDriverWait(driver, \u001b[39m15\u001b[39;49m)\u001b[39m.\u001b[39;49muntil(EC\u001b[39m.\u001b[39;49mpresence_of_element_located((By\u001b[39m.\u001b[39;49mCLASS_NAME, \u001b[39m\"\u001b[39;49m\u001b[39mc00133 zv-section\u001b[39;49m\u001b[39m\"\u001b[39;49m)))\n\u001b[0;32m     10\u001b[0m sleep(\u001b[39m2\u001b[39m)\n\u001b[0;32m     11\u001b[0m     \u001b[39m# idx+=1\u001b[39;00m\n",
      "File \u001b[1;32mc:\\Python311\\Lib\\site-packages\\selenium\\webdriver\\support\\wait.py:95\u001b[0m, in \u001b[0;36mWebDriverWait.until\u001b[1;34m(self, method, message)\u001b[0m\n\u001b[0;32m     93\u001b[0m     \u001b[39mif\u001b[39;00m time\u001b[39m.\u001b[39mmonotonic() \u001b[39m>\u001b[39m end_time:\n\u001b[0;32m     94\u001b[0m         \u001b[39mbreak\u001b[39;00m\n\u001b[1;32m---> 95\u001b[0m \u001b[39mraise\u001b[39;00m TimeoutException(message, screen, stacktrace)\n",
      "\u001b[1;31mTimeoutException\u001b[0m: Message: \nStacktrace:\n\tGetHandleVerifier [0x00007FF685CB52A2+57122]\n\t(No symbol) [0x00007FF685C2EA92]\n\t(No symbol) [0x00007FF685AFE3AB]\n\t(No symbol) [0x00007FF685B37D3E]\n\t(No symbol) [0x00007FF685B37E2C]\n\t(No symbol) [0x00007FF685B70B67]\n\t(No symbol) [0x00007FF685B5701F]\n\t(No symbol) [0x00007FF685B6EB82]\n\t(No symbol) [0x00007FF685B56DB3]\n\t(No symbol) [0x00007FF685B2D2B1]\n\t(No symbol) [0x00007FF685B2E494]\n\tGetHandleVerifier [0x00007FF685F5EF82+2849794]\n\tGetHandleVerifier [0x00007FF685FB1D24+3189156]\n\tGetHandleVerifier [0x00007FF685FAACAF+3160367]\n\tGetHandleVerifier [0x00007FF685D46D06+653702]\n\t(No symbol) [0x00007FF685C3A208]\n\t(No symbol) [0x00007FF685C362C4]\n\t(No symbol) [0x00007FF685C363F6]\n\t(No symbol) [0x00007FF685C267A3]\n\tBaseThreadInitThunk [0x00007FFD03DE7614+20]\n\tRtlUserThreadStart [0x00007FFD05DC26B1+33]\n"
     ]
    }
   ],
   "source": [
    "header = []\n",
    "idx = 1\n",
    "flag = False\n",
    "totalPage = 1\n",
    "\n",
    "# while idx < totalPage:\n",
    "hostpot = driver.find_element(By.XPATH,f'//*[@id=\"triggers-container\"]/button[1]')\n",
    "hostpot.click()\n",
    "# pagingComponent = WebDriverWait(driver, 15).until(EC.presence_of_element_located((By.CLASS_NAME, \"c00133 zv-section\")))\n",
    "sleep(2)\n",
    "    # idx+=1"
   ]
  },
  {
   "cell_type": "code",
   "execution_count": null,
   "metadata": {},
   "outputs": [],
   "source": []
  }
 ],
 "metadata": {
  "kernelspec": {
   "display_name": "Python 3",
   "language": "python",
   "name": "python3"
  },
  "language_info": {
   "codemirror_mode": {
    "name": "ipython",
    "version": 3
   },
   "file_extension": ".py",
   "mimetype": "text/x-python",
   "name": "python",
   "nbconvert_exporter": "python",
   "pygments_lexer": "ipython3",
   "version": "3.11.3"
  },
  "orig_nbformat": 4
 },
 "nbformat": 4,
 "nbformat_minor": 2
}
