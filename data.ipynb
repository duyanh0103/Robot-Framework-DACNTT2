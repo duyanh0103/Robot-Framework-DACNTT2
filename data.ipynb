{
 "cells": [
  {
   "cell_type": "code",
   "execution_count": 1,
   "metadata": {},
   "outputs": [],
   "source": [
    "import csv\n",
    "import pandas as pd\n",
    "\n",
    "from selenium.webdriver.common.by import By\n",
    "from selenium.webdriver.support.ui import WebDriverWait\n",
    "from selenium.webdriver.support import expected_conditions as EC\n",
    "\n",
    "from selenium import webdriver\n",
    "from webdriver_manager.chrome import ChromeDriverManager\n",
    "import selenium\n",
    "from bs4 import BeautifulSoup\n",
    "\n",
    "from  time import sleep"
   ]
  },
  {
   "cell_type": "code",
   "execution_count": 2,
   "metadata": {},
   "outputs": [
    {
     "name": "stderr",
     "output_type": "stream",
     "text": [
      "C:\\Users\\Admin\\AppData\\Local\\Temp\\ipykernel_17160\\1260611284.py:8: DeprecationWarning: executable_path has been deprecated, please pass in a Service object\n",
      "  driver = selenium.webdriver.Chrome(executable_path=mac_path,options=options)\n"
     ]
    }
   ],
   "source": [
    "# Path to the Chrome driver for my Mac -- yours will differ\n",
    "mac_path = 'chromedriver/chromedriver.exe'\n",
    "options = webdriver.ChromeOptions()\n",
    "options.add_argument('--start-maximized')\n",
    "# options.add_argument('--headless')\n",
    "# options.add_argument('--no-sandbox')\n",
    "# options.add_argument('--disable-dev-shm-usage')\n",
    "driver = selenium.webdriver.Chrome(executable_path=mac_path,options=options)\n",
    "url = 'https://www.bosch-home.com/us/kitchen-planning-resources/kitchen-package-tool?vcs=4570&vcl=329&vclf=undefined&vct=13684&p_esp=1737384%3ASPE68B55UC%3A1'\n",
    "driver.get(url)"
   ]
  },
  {
   "cell_type": "code",
   "execution_count": 3,
   "metadata": {},
   "outputs": [],
   "source": [
    "page_source = driver.page_source\n",
    "soup = BeautifulSoup(page_source, 'html.parser')"
   ]
  },
  {
   "cell_type": "code",
   "execution_count": 4,
   "metadata": {},
   "outputs": [],
   "source": [
    "first_yes_btn = driver.find_element(By.XPATH,\"/html/body/div[2]/div[2]/div[2]/span[1]/a\")\n",
    "first_yes_btn.click()\n"
   ]
  },
  {
   "cell_type": "code",
   "execution_count": 5,
   "metadata": {},
   "outputs": [],
   "source": [
    "# sleep(30)\n",
    "close_modal = driver.find_element(By.XPATH,\"/html/body/div[5]/div[2]/div/div[1]/button\")\n",
    "close_modal.click()"
   ]
  },
  {
   "cell_type": "code",
   "execution_count": null,
   "metadata": {},
   "outputs": [],
   "source": [
    "# Dishwasher hotspot\n",
    "dish_hotspot = driver.find_element(By.XPATH,\"/html/body/div[4]/div[3]/div/div/div/div[2]/div/div/div/div/div/div[3]/div/div/div/div/div/div/div/div[2]/div/div[2]/button[2]\")\n",
    "dish_hotspot.click()"
   ]
  },
  {
   "cell_type": "code",
   "execution_count": null,
   "metadata": {},
   "outputs": [],
   "source": [
    "# Dishwasher hostpot\n",
    "for i in range(1,6):\n",
    "    hostpot = driver.find_element(By.XPATH,f'//*[@id=\"triggers-container\"]/button[{i}]')\n",
    "    hostpot.click()\n",
    "    sleep(0.35)\n",
    "    hostpot_close = driver.find_element(By.XPATH,f'//*[@id=\"zoovu-assistant\"]/div/div[2]/div/div/div/div/div/div[3]/div/div/div/div/div/div/div/div[3]/div/div[1]/button')\n",
    "    hostpot_close.click()"
   ]
  },
  {
   "cell_type": "code",
   "execution_count": 6,
   "metadata": {},
   "outputs": [
    {
     "name": "stdout",
     "output_type": "stream",
     "text": [
      "['SPE68B55UC', 'SPV68B53UC', 'SGE78B55UC', 'SHPM78Z55N', 'SGV78B53UC', 'SGX78B55UC', 'SHPM78Z54N', 'SHVM78Z53N', 'SHXM78Z55N', 'SHE89PW75N', 'SHV89PW73N', 'SHX89PW75N', 'SHE3AR72UC', 'SHE3AR76UC', 'SHEM3AY52N', 'SHE3AR75UC', 'SHEM3AY55N', 'SHX3AR72UC', 'SHXM4AY56N', 'SHXM4AY55N', 'SGE53B55UC', 'SHEM63W55N', 'SPE53B52UC', 'SPE53B55UC', 'SPE53B56UC', 'SHSM63W55N', 'SHPM65Z52N', 'SHPM65Z55N', 'SHVM63W53N', 'SHXM63W55N', 'SHPM88Z75N', 'SHXM88Z75N']\n"
     ]
    }
   ],
   "source": [
    "#TODO:  soup cần dynamics scroll để tìm elements // selenium để graph thông tin\n",
    "\n",
    "#----------------------------------------------------------------\n",
    "\n",
    "items = []\n",
    "all_items = [] #list after filter duplicates\n",
    "dup_list = set() #set obmit duplicates\n",
    "max = 0\n",
    "\n",
    "hostpot = driver.find_element(By.XPATH,f'//*[@id=\"triggers-container\"]/button[2]')\n",
    "hostpot.click()\n",
    "# có 32 sản phẩm\n",
    "while(max < 32):\n",
    "    max = max + 1\n",
    "    # scroll xuống cho driver find được các element\n",
    "    endpoint_sideBar = driver.find_element(By.XPATH,f'//*[@id=\"zoovu-assistant\"]/div/div[2]/div/div/div/div/div/div[3]/div/div/div/div/div/div/div/div[3]/div/div[6]/div/div[2]/div[{max}]/div/div')\n",
    "    driver.execute_script(\"arguments[0].scrollIntoView()\",endpoint_sideBar)\n",
    "    \n",
    "    sleep(0.35)\n",
    "    # ghi các items\n",
    "    for i in range(1,max+1):\n",
    "        dishwashers = driver.find_element(By.XPATH,f'//*[@id=\"zoovu-assistant\"]/div/div[2]/div/div/div/div/div/div[3]/div/div/div/div/div/div/div/div[3]/div/div[6]/div/div[2]/div[{max}]/div/div/div[3]/div[2]/div/div').text\n",
    "        items.append(dishwashers)\n",
    "    sleep(0.4)\n",
    "    # print(max)\n",
    "    # check các items bị duplicates\n",
    "for item in items:\n",
    "    if item not in dup_list:\n",
    "        all_items.append(item)\n",
    "        dup_list.add(item)\n",
    "print(all_items)\n",
    "   "
   ]
  },
  {
   "cell_type": "code",
   "execution_count": 7,
   "metadata": {},
   "outputs": [
    {
     "name": "stdout",
     "output_type": "stream",
     "text": [
      "32\n"
     ]
    }
   ],
   "source": [
    "print(len(all_items))"
   ]
  },
  {
   "cell_type": "code",
   "execution_count": 82,
   "metadata": {},
   "outputs": [],
   "source": [
    "# productName = {'product_name':all_items}\n",
    "# productName.update(all_items)\n",
    "data= pd.DataFrame(all_items)\n",
    "data.to_csv('product_data.csv', index=False)"
   ]
  },
  {
   "cell_type": "code",
   "execution_count": null,
   "metadata": {},
   "outputs": [],
   "source": []
  }
 ],
 "metadata": {
  "kernelspec": {
   "display_name": "Python 3",
   "language": "python",
   "name": "python3"
  },
  "language_info": {
   "codemirror_mode": {
    "name": "ipython",
    "version": 3
   },
   "file_extension": ".py",
   "mimetype": "text/x-python",
   "name": "python",
   "nbconvert_exporter": "python",
   "pygments_lexer": "ipython3",
   "version": "3.11.3"
  },
  "orig_nbformat": 4
 },
 "nbformat": 4,
 "nbformat_minor": 2
}
